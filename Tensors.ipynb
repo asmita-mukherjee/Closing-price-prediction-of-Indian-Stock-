{
  "nbformat": 4,
  "nbformat_minor": 0,
  "metadata": {
    "colab": {
      "provenance": [],
      "gpuType": "T4",
      "authorship_tag": "ABX9TyNoPfc0FeD6s8nqo/lWf+r9",
      "include_colab_link": true
    },
    "kernelspec": {
      "name": "python3",
      "display_name": "Python 3"
    },
    "language_info": {
      "name": "python"
    },
    "accelerator": "GPU",
    "gpuClass": "standard"
  },
  "cells": [
    {
      "cell_type": "markdown",
      "metadata": {
        "id": "view-in-github",
        "colab_type": "text"
      },
      "source": [
        "<a href=\"https://colab.research.google.com/github/asmita-mukherjee/Closing-price-prediction-of-Indian-Stock-/blob/main/Tensors.ipynb\" target=\"_parent\"><img src=\"https://colab.research.google.com/assets/colab-badge.svg\" alt=\"Open In Colab\"/></a>"
      ]
    },
    {
      "cell_type": "markdown",
      "source": [
        "### following from https://pytorch.org/tutorials/index.html"
      ],
      "metadata": {
        "id": "0VEoDwYMo3Bh"
      }
    },
    {
      "cell_type": "code",
      "source": [
        "import torch"
      ],
      "metadata": {
        "id": "6s0i7zgDo2gA"
      },
      "execution_count": 1,
      "outputs": []
    },
    {
      "cell_type": "code",
      "execution_count": 2,
      "metadata": {
        "id": "qk0tfY01oskv"
      },
      "outputs": [],
      "source": [
        "import numpy as np"
      ]
    },
    {
      "cell_type": "code",
      "source": [
        "def print_tensor(t):\n",
        "  print(f\"The tensor {t} and its shape {t.shape} and its dtype {t.dtype} and device of tensor {t.device}\")"
      ],
      "metadata": {
        "id": "0SjEWaverXJl"
      },
      "execution_count": 3,
      "outputs": []
    },
    {
      "cell_type": "markdown",
      "source": [
        "## Different ways of initializing tensors"
      ],
      "metadata": {
        "id": "nX95Uy_2pKcd"
      }
    },
    {
      "cell_type": "markdown",
      "source": [
        "#### Directly from data"
      ],
      "metadata": {
        "id": "CB4Y5NXipayV"
      }
    },
    {
      "cell_type": "code",
      "source": [
        "data = [[1,2],[3,4]]\n",
        "t = torch.tensor(data)\n",
        "print(f\"The tensor {t} and its shape {t.shape}\")"
      ],
      "metadata": {
        "colab": {
          "base_uri": "https://localhost:8080/"
        },
        "id": "EHszJoq3pJOn",
        "outputId": "017ac2fb-f9e8-4ed3-aa2d-efeefd40148b"
      },
      "execution_count": 4,
      "outputs": [
        {
          "output_type": "stream",
          "name": "stdout",
          "text": [
            "The tensor tensor([[1, 2],\n",
            "        [3, 4]]) and its shape torch.Size([2, 2])\n"
          ]
        }
      ]
    },
    {
      "cell_type": "code",
      "source": [
        "data = [[1,2,3],[4,5,6],[7,8,9]]\n",
        "t = torch.tensor(data)\n",
        "print(f\"The Tensor {t} and its shape {t.shape}\")"
      ],
      "metadata": {
        "colab": {
          "base_uri": "https://localhost:8080/"
        },
        "id": "YEWBGwLjpjX4",
        "outputId": "1d3e96b4-c216-449e-c8ce-b17974be3681"
      },
      "execution_count": 5,
      "outputs": [
        {
          "output_type": "stream",
          "name": "stdout",
          "text": [
            "The Tensor tensor([[1, 2, 3],\n",
            "        [4, 5, 6],\n",
            "        [7, 8, 9]]) and its shape torch.Size([3, 3])\n"
          ]
        }
      ]
    },
    {
      "cell_type": "markdown",
      "source": [
        "#### from numpy array"
      ],
      "metadata": {
        "id": "GqvCM4EIrN98"
      }
    },
    {
      "cell_type": "code",
      "source": [
        "np_array = np.array(data)\n",
        "t = torch.tensor(data)\n",
        "print_tensor(t)"
      ],
      "metadata": {
        "colab": {
          "base_uri": "https://localhost:8080/"
        },
        "id": "OnCrBCbbpsx-",
        "outputId": "b09475c9-b3e5-4418-eebe-49ac2790dec2"
      },
      "execution_count": 6,
      "outputs": [
        {
          "output_type": "stream",
          "name": "stdout",
          "text": [
            "The tensor tensor([[1, 2, 3],\n",
            "        [4, 5, 6],\n",
            "        [7, 8, 9]]) and its shape torch.Size([3, 3]) and its dtype torch.int64 and device of tensor cpu\n"
          ]
        }
      ]
    },
    {
      "cell_type": "markdown",
      "source": [
        "From another tensor (using its shape and dtype)"
      ],
      "metadata": {
        "id": "paBD7YlCrzPJ"
      }
    },
    {
      "cell_type": "code",
      "source": [
        "t = torch.rand_like(t,dtype=torch.float)"
      ],
      "metadata": {
        "id": "U-VWPpAXremd"
      },
      "execution_count": 7,
      "outputs": []
    },
    {
      "cell_type": "code",
      "source": [
        "print_tensor(t)"
      ],
      "metadata": {
        "colab": {
          "base_uri": "https://localhost:8080/"
        },
        "id": "yedfos0usL0I",
        "outputId": "bfce5df1-5350-4105-c0b5-ec78bb9e452c"
      },
      "execution_count": 8,
      "outputs": [
        {
          "output_type": "stream",
          "name": "stdout",
          "text": [
            "The tensor tensor([[0.4787, 0.1151, 0.2143],\n",
            "        [0.0381, 0.5897, 0.9122],\n",
            "        [0.6027, 0.3694, 0.7464]]) and its shape torch.Size([3, 3]) and its dtype torch.float32 and device of tensor cpu\n"
          ]
        }
      ]
    },
    {
      "cell_type": "code",
      "source": [
        "t = torch.ones_like(t)\n",
        "print_tensor(t)\n"
      ],
      "metadata": {
        "colab": {
          "base_uri": "https://localhost:8080/"
        },
        "id": "ubwEN9qusauV",
        "outputId": "8b62cf99-0c3f-4c5c-fdc6-49481f66d41d"
      },
      "execution_count": 9,
      "outputs": [
        {
          "output_type": "stream",
          "name": "stdout",
          "text": [
            "The tensor tensor([[1., 1., 1.],\n",
            "        [1., 1., 1.],\n",
            "        [1., 1., 1.]]) and its shape torch.Size([3, 3]) and its dtype torch.float32 and device of tensor cpu\n"
          ]
        }
      ]
    },
    {
      "cell_type": "markdown",
      "source": [
        "## With random or constant values:"
      ],
      "metadata": {
        "id": "r_8Ps1sfs2fN"
      }
    },
    {
      "cell_type": "code",
      "source": [
        "shape = (2,5)"
      ],
      "metadata": {
        "id": "L4wsw4Ags5qs"
      },
      "execution_count": 10,
      "outputs": []
    },
    {
      "cell_type": "code",
      "source": [
        "t1 = torch.randn(shape)\n",
        "print_tensor(t1)"
      ],
      "metadata": {
        "colab": {
          "base_uri": "https://localhost:8080/"
        },
        "id": "ke78fJwRsjGd",
        "outputId": "a70b838e-b8d6-4579-d968-54443ad6c649"
      },
      "execution_count": 11,
      "outputs": [
        {
          "output_type": "stream",
          "name": "stdout",
          "text": [
            "The tensor tensor([[-0.6996, -1.0864, -1.5471,  0.7001,  1.4896],\n",
            "        [ 0.1137,  1.3957,  0.3689, -2.0577,  0.4820]]) and its shape torch.Size([2, 5]) and its dtype torch.float32 and device of tensor cpu\n"
          ]
        }
      ]
    },
    {
      "cell_type": "code",
      "source": [
        "t2 = torch.ones(shape,dtype=torch.int)\n",
        "print_tensor(t2)"
      ],
      "metadata": {
        "colab": {
          "base_uri": "https://localhost:8080/"
        },
        "id": "B_h1VDpstAj-",
        "outputId": "6b7b16fd-4de1-4b2e-ffe0-bd2e693d3f00"
      },
      "execution_count": 12,
      "outputs": [
        {
          "output_type": "stream",
          "name": "stdout",
          "text": [
            "The tensor tensor([[1, 1, 1, 1, 1],\n",
            "        [1, 1, 1, 1, 1]], dtype=torch.int32) and its shape torch.Size([2, 5]) and its dtype torch.int32 and device of tensor cpu\n"
          ]
        }
      ]
    },
    {
      "cell_type": "code",
      "source": [
        "t3 = torch.rand(shape)\n",
        "print_tensor(t3)"
      ],
      "metadata": {
        "colab": {
          "base_uri": "https://localhost:8080/"
        },
        "id": "QE56H5tItFBQ",
        "outputId": "664ab9bb-b654-4df8-d4db-3d56653c77cc"
      },
      "execution_count": 13,
      "outputs": [
        {
          "output_type": "stream",
          "name": "stdout",
          "text": [
            "The tensor tensor([[0.0664, 0.9389, 0.8262, 0.7077, 0.4102],\n",
            "        [0.2190, 0.3039, 0.0795, 0.0891, 0.3567]]) and its shape torch.Size([2, 5]) and its dtype torch.float32 and device of tensor cpu\n"
          ]
        }
      ]
    },
    {
      "cell_type": "markdown",
      "source": [
        "## Tensor Operations"
      ],
      "metadata": {
        "id": "xshj4KxNtW1U"
      }
    },
    {
      "cell_type": "code",
      "source": [
        "if torch.cuda.is_available():\n",
        "  t3 = t3.to('cuda')\n",
        "\n",
        "print_tensor(t3)"
      ],
      "metadata": {
        "colab": {
          "base_uri": "https://localhost:8080/"
        },
        "id": "3zYtsl3dtK_6",
        "outputId": "adaded5f-17e3-4ca2-f443-2b74b62ab5ee"
      },
      "execution_count": 16,
      "outputs": [
        {
          "output_type": "stream",
          "name": "stdout",
          "text": [
            "The tensor tensor([[0.0664, 0.9389, 0.8262, 0.7077, 0.4102],\n",
            "        [0.2190, 0.3039, 0.0795, 0.0891, 0.3567]], device='cuda:0') and its shape torch.Size([2, 5]) and its dtype torch.float32 and device of tensor cuda:0\n"
          ]
        }
      ]
    },
    {
      "cell_type": "code",
      "source": [
        "torch.cuda.memory_snapshot()"
      ],
      "metadata": {
        "colab": {
          "base_uri": "https://localhost:8080/"
        },
        "id": "no7K9vZ0wGoh",
        "outputId": "aa663525-9624-4afa-ae0e-6cdbb8fca238"
      },
      "execution_count": 19,
      "outputs": [
        {
          "output_type": "execute_result",
          "data": {
            "text/plain": [
              "[{'device': 0,\n",
              "  'address': 140266367352832,\n",
              "  'total_size': 2097152,\n",
              "  'allocated_size': 512,\n",
              "  'active_size': 512,\n",
              "  'requested_size': 40,\n",
              "  'stream': 0,\n",
              "  'segment_type': 'small',\n",
              "  'blocks': [{'size': 512, 'requested_size': 40, 'state': 'active_allocated'},\n",
              "   {'size': 2096640, 'requested_size': 8, 'state': 'inactive'}]}]"
            ]
          },
          "metadata": {},
          "execution_count": 19
        }
      ]
    },
    {
      "cell_type": "code",
      "source": [
        "t4 = torch.ones(3,4,3)\n",
        "\n",
        "print(\"before\")\n",
        "print_tensor(t4)\n",
        "\n",
        "t4[1,:,:] = 0 \n",
        "\n",
        "print(\"After\")\n",
        "print_tensor(t4)\n",
        "\n"
      ],
      "metadata": {
        "colab": {
          "base_uri": "https://localhost:8080/"
        },
        "id": "qVH8-PSoxDMd",
        "outputId": "58cb4789-9fce-4473-9d8f-3f24740f1348"
      },
      "execution_count": 27,
      "outputs": [
        {
          "output_type": "stream",
          "name": "stdout",
          "text": [
            "before\n",
            "The tensor tensor([[[1., 1., 1.],\n",
            "         [1., 1., 1.],\n",
            "         [1., 1., 1.],\n",
            "         [1., 1., 1.]],\n",
            "\n",
            "        [[1., 1., 1.],\n",
            "         [1., 1., 1.],\n",
            "         [1., 1., 1.],\n",
            "         [1., 1., 1.]],\n",
            "\n",
            "        [[1., 1., 1.],\n",
            "         [1., 1., 1.],\n",
            "         [1., 1., 1.],\n",
            "         [1., 1., 1.]]]) and its shape torch.Size([3, 4, 3]) and its dtype torch.float32 and device of tensor cpu\n",
            "After\n",
            "The tensor tensor([[[1., 1., 1.],\n",
            "         [1., 1., 1.],\n",
            "         [1., 1., 1.],\n",
            "         [1., 1., 1.]],\n",
            "\n",
            "        [[0., 0., 0.],\n",
            "         [0., 0., 0.],\n",
            "         [0., 0., 0.],\n",
            "         [0., 0., 0.]],\n",
            "\n",
            "        [[1., 1., 1.],\n",
            "         [1., 1., 1.],\n",
            "         [1., 1., 1.],\n",
            "         [1., 1., 1.]]]) and its shape torch.Size([3, 4, 3]) and its dtype torch.float32 and device of tensor cpu\n"
          ]
        }
      ]
    },
    {
      "cell_type": "code",
      "source": [
        "t4 = torch.ones(3,4,3)\n",
        "\n",
        "print(\"before\")\n",
        "print_tensor(t4)\n",
        "\n",
        "t4[:,1,:] = 0 #make 1st axis all 0s\n",
        "\n",
        "print(\"After\")\n",
        "print_tensor(t4)\n",
        "\n"
      ],
      "metadata": {
        "colab": {
          "base_uri": "https://localhost:8080/"
        },
        "id": "mf0qilhNxSCm",
        "outputId": "99ec728d-7930-4d37-ba0b-de0c9e15d974"
      },
      "execution_count": 28,
      "outputs": [
        {
          "output_type": "stream",
          "name": "stdout",
          "text": [
            "before\n",
            "The tensor tensor([[[1., 1., 1.],\n",
            "         [1., 1., 1.],\n",
            "         [1., 1., 1.],\n",
            "         [1., 1., 1.]],\n",
            "\n",
            "        [[1., 1., 1.],\n",
            "         [1., 1., 1.],\n",
            "         [1., 1., 1.],\n",
            "         [1., 1., 1.]],\n",
            "\n",
            "        [[1., 1., 1.],\n",
            "         [1., 1., 1.],\n",
            "         [1., 1., 1.],\n",
            "         [1., 1., 1.]]]) and its shape torch.Size([3, 4, 3]) and its dtype torch.float32 and device of tensor cpu\n",
            "After\n",
            "The tensor tensor([[[1., 1., 1.],\n",
            "         [0., 0., 0.],\n",
            "         [1., 1., 1.],\n",
            "         [1., 1., 1.]],\n",
            "\n",
            "        [[1., 1., 1.],\n",
            "         [0., 0., 0.],\n",
            "         [1., 1., 1.],\n",
            "         [1., 1., 1.]],\n",
            "\n",
            "        [[1., 1., 1.],\n",
            "         [0., 0., 0.],\n",
            "         [1., 1., 1.],\n",
            "         [1., 1., 1.]]]) and its shape torch.Size([3, 4, 3]) and its dtype torch.float32 and device of tensor cpu\n"
          ]
        }
      ]
    },
    {
      "cell_type": "code",
      "source": [
        "t4 = torch.ones(3,4,3)\n",
        "\n",
        "print(\"before\")\n",
        "print_tensor(t4)\n",
        "\n",
        "t4[:,:,1] = 0 #make 1st axis all 0s\n",
        "\n",
        "print(\"After\")\n",
        "print_tensor(t4)\n"
      ],
      "metadata": {
        "colab": {
          "base_uri": "https://localhost:8080/"
        },
        "id": "Sjurs865x31Y",
        "outputId": "31c0d1a8-2eb9-440d-827d-3a4ffa742d97"
      },
      "execution_count": 29,
      "outputs": [
        {
          "output_type": "stream",
          "name": "stdout",
          "text": [
            "before\n",
            "The tensor tensor([[[1., 1., 1.],\n",
            "         [1., 1., 1.],\n",
            "         [1., 1., 1.],\n",
            "         [1., 1., 1.]],\n",
            "\n",
            "        [[1., 1., 1.],\n",
            "         [1., 1., 1.],\n",
            "         [1., 1., 1.],\n",
            "         [1., 1., 1.]],\n",
            "\n",
            "        [[1., 1., 1.],\n",
            "         [1., 1., 1.],\n",
            "         [1., 1., 1.],\n",
            "         [1., 1., 1.]]]) and its shape torch.Size([3, 4, 3]) and its dtype torch.float32 and device of tensor cpu\n",
            "After\n",
            "The tensor tensor([[[1., 0., 1.],\n",
            "         [1., 0., 1.],\n",
            "         [1., 0., 1.],\n",
            "         [1., 0., 1.]],\n",
            "\n",
            "        [[1., 0., 1.],\n",
            "         [1., 0., 1.],\n",
            "         [1., 0., 1.],\n",
            "         [1., 0., 1.]],\n",
            "\n",
            "        [[1., 0., 1.],\n",
            "         [1., 0., 1.],\n",
            "         [1., 0., 1.],\n",
            "         [1., 0., 1.]]]) and its shape torch.Size([3, 4, 3]) and its dtype torch.float32 and device of tensor cpu\n"
          ]
        }
      ]
    },
    {
      "cell_type": "markdown",
      "source": [
        "Hence the 1st axis denote which of the matrix we are taking about and [1,:,:] would indicate the 2nd matrix\n",
        "\n",
        "\n",
        "The 2nd axis denote the row index of each matrix , hence [:,1,:] indicates the 2nd row of each matrix\n",
        "\n",
        "\n",
        "The 3rd axis denote the column index of each matrix, hence [:,:,1] indicates the 2nd column of each matrix\n",
        "\n",
        "\n"
      ],
      "metadata": {
        "id": "h7LOLGbDyD_9"
      }
    },
    {
      "cell_type": "markdown",
      "source": [
        "### Joining tensors"
      ],
      "metadata": {
        "id": "MKjjjb-nzJ37"
      }
    },
    {
      "cell_type": "code",
      "source": [
        "tensor = torch.ones(3,4,3)"
      ],
      "metadata": {
        "id": "Fgs7Za22yCd9"
      },
      "execution_count": 30,
      "outputs": []
    },
    {
      "cell_type": "code",
      "source": [
        "print_tensor(tensor)"
      ],
      "metadata": {
        "colab": {
          "base_uri": "https://localhost:8080/"
        },
        "id": "CwQOs2cNzMlI",
        "outputId": "762af0f9-5297-4211-eff2-d35e7bea4129"
      },
      "execution_count": 31,
      "outputs": [
        {
          "output_type": "stream",
          "name": "stdout",
          "text": [
            "The tensor tensor([[[1., 1., 1.],\n",
            "         [1., 1., 1.],\n",
            "         [1., 1., 1.],\n",
            "         [1., 1., 1.]],\n",
            "\n",
            "        [[1., 1., 1.],\n",
            "         [1., 1., 1.],\n",
            "         [1., 1., 1.],\n",
            "         [1., 1., 1.]],\n",
            "\n",
            "        [[1., 1., 1.],\n",
            "         [1., 1., 1.],\n",
            "         [1., 1., 1.],\n",
            "         [1., 1., 1.]]]) and its shape torch.Size([3, 4, 3]) and its dtype torch.float32 and device of tensor cpu\n"
          ]
        }
      ]
    },
    {
      "cell_type": "markdown",
      "source": [
        "#### Joining along different dimensions"
      ],
      "metadata": {
        "id": "jJ_0ihTvzQ3X"
      }
    },
    {
      "cell_type": "code",
      "source": [
        "tensor_new = torch.cat([tensor,tensor],dim = 0)\n",
        "\n",
        "print_tensor(tensor_new)"
      ],
      "metadata": {
        "colab": {
          "base_uri": "https://localhost:8080/"
        },
        "id": "ismPP-tJzPi-",
        "outputId": "46d25813-8d52-4e32-e14f-74d8ccfbfc3e"
      },
      "execution_count": 32,
      "outputs": [
        {
          "output_type": "stream",
          "name": "stdout",
          "text": [
            "The tensor tensor([[[1., 1., 1.],\n",
            "         [1., 1., 1.],\n",
            "         [1., 1., 1.],\n",
            "         [1., 1., 1.]],\n",
            "\n",
            "        [[1., 1., 1.],\n",
            "         [1., 1., 1.],\n",
            "         [1., 1., 1.],\n",
            "         [1., 1., 1.]],\n",
            "\n",
            "        [[1., 1., 1.],\n",
            "         [1., 1., 1.],\n",
            "         [1., 1., 1.],\n",
            "         [1., 1., 1.]],\n",
            "\n",
            "        [[1., 1., 1.],\n",
            "         [1., 1., 1.],\n",
            "         [1., 1., 1.],\n",
            "         [1., 1., 1.]],\n",
            "\n",
            "        [[1., 1., 1.],\n",
            "         [1., 1., 1.],\n",
            "         [1., 1., 1.],\n",
            "         [1., 1., 1.]],\n",
            "\n",
            "        [[1., 1., 1.],\n",
            "         [1., 1., 1.],\n",
            "         [1., 1., 1.],\n",
            "         [1., 1., 1.]]]) and its shape torch.Size([6, 4, 3]) and its dtype torch.float32 and device of tensor cpu\n"
          ]
        }
      ]
    },
    {
      "cell_type": "code",
      "source": [
        "tensor_new = torch.cat([tensor,tensor],dim = 1)\n",
        "\n",
        "print_tensor(tensor_new)"
      ],
      "metadata": {
        "colab": {
          "base_uri": "https://localhost:8080/"
        },
        "id": "LzvUFZgfzukn",
        "outputId": "524255d9-49f3-485b-d2ab-c4eb2c4719ae"
      },
      "execution_count": 33,
      "outputs": [
        {
          "output_type": "stream",
          "name": "stdout",
          "text": [
            "The tensor tensor([[[1., 1., 1.],\n",
            "         [1., 1., 1.],\n",
            "         [1., 1., 1.],\n",
            "         [1., 1., 1.],\n",
            "         [1., 1., 1.],\n",
            "         [1., 1., 1.],\n",
            "         [1., 1., 1.],\n",
            "         [1., 1., 1.]],\n",
            "\n",
            "        [[1., 1., 1.],\n",
            "         [1., 1., 1.],\n",
            "         [1., 1., 1.],\n",
            "         [1., 1., 1.],\n",
            "         [1., 1., 1.],\n",
            "         [1., 1., 1.],\n",
            "         [1., 1., 1.],\n",
            "         [1., 1., 1.]],\n",
            "\n",
            "        [[1., 1., 1.],\n",
            "         [1., 1., 1.],\n",
            "         [1., 1., 1.],\n",
            "         [1., 1., 1.],\n",
            "         [1., 1., 1.],\n",
            "         [1., 1., 1.],\n",
            "         [1., 1., 1.],\n",
            "         [1., 1., 1.]]]) and its shape torch.Size([3, 8, 3]) and its dtype torch.float32 and device of tensor cpu\n"
          ]
        }
      ]
    },
    {
      "cell_type": "code",
      "source": [
        "tensor_new = torch.cat([tensor,tensor],dim = 2)\n",
        "\n",
        "print_tensor(tensor_new)"
      ],
      "metadata": {
        "colab": {
          "base_uri": "https://localhost:8080/"
        },
        "id": "fRN4QGlLzz09",
        "outputId": "c4392f10-3079-44b8-f375-6fbb2f75fd0d"
      },
      "execution_count": 34,
      "outputs": [
        {
          "output_type": "stream",
          "name": "stdout",
          "text": [
            "The tensor tensor([[[1., 1., 1., 1., 1., 1.],\n",
            "         [1., 1., 1., 1., 1., 1.],\n",
            "         [1., 1., 1., 1., 1., 1.],\n",
            "         [1., 1., 1., 1., 1., 1.]],\n",
            "\n",
            "        [[1., 1., 1., 1., 1., 1.],\n",
            "         [1., 1., 1., 1., 1., 1.],\n",
            "         [1., 1., 1., 1., 1., 1.],\n",
            "         [1., 1., 1., 1., 1., 1.]],\n",
            "\n",
            "        [[1., 1., 1., 1., 1., 1.],\n",
            "         [1., 1., 1., 1., 1., 1.],\n",
            "         [1., 1., 1., 1., 1., 1.],\n",
            "         [1., 1., 1., 1., 1., 1.]]]) and its shape torch.Size([3, 4, 6]) and its dtype torch.float32 and device of tensor cpu\n"
          ]
        }
      ]
    },
    {
      "cell_type": "markdown",
      "source": [
        "### Multiplication and addition"
      ],
      "metadata": {
        "id": "Ge_hun9X0GZt"
      }
    },
    {
      "cell_type": "code",
      "source": [
        "arr1 = [[1,2,3],[4,5,6]] #2*3\n",
        "\n",
        "arr2 = [[2],[2],[2]] # 3*1 \n",
        "\n",
        "t1 = torch.tensor(arr1)\n",
        "t2 = torch.tensor(arr2)"
      ],
      "metadata": {
        "id": "gr7eLetRz3MW"
      },
      "execution_count": 39,
      "outputs": []
    },
    {
      "cell_type": "code",
      "source": [
        "t1.matmul(t2)"
      ],
      "metadata": {
        "colab": {
          "base_uri": "https://localhost:8080/"
        },
        "id": "J3BSvt6S1ZxI",
        "outputId": "eb377dcd-f0c7-42aa-afea-08f1f951f8df"
      },
      "execution_count": 40,
      "outputs": [
        {
          "output_type": "execute_result",
          "data": {
            "text/plain": [
              "tensor([[12],\n",
              "        [30]])"
            ]
          },
          "metadata": {},
          "execution_count": 40
        }
      ]
    },
    {
      "cell_type": "code",
      "source": [
        "t1@t2"
      ],
      "metadata": {
        "colab": {
          "base_uri": "https://localhost:8080/"
        },
        "id": "wOm-VfIg1cOy",
        "outputId": "5f6b5551-243d-4338-9263-275d0158d7ab"
      },
      "execution_count": 41,
      "outputs": [
        {
          "output_type": "execute_result",
          "data": {
            "text/plain": [
              "tensor([[12],\n",
              "        [30]])"
            ]
          },
          "metadata": {},
          "execution_count": 41
        }
      ]
    },
    {
      "cell_type": "code",
      "source": [
        "t1.add_(5)"
      ],
      "metadata": {
        "colab": {
          "base_uri": "https://localhost:8080/"
        },
        "id": "lqh_XRsq1rM4",
        "outputId": "3b733463-38c3-41d2-aa6f-bc3ba61c7f15"
      },
      "execution_count": 42,
      "outputs": [
        {
          "output_type": "execute_result",
          "data": {
            "text/plain": [
              "tensor([[ 6,  7,  8],\n",
              "        [ 9, 10, 11]])"
            ]
          },
          "metadata": {},
          "execution_count": 42
        }
      ]
    },
    {
      "cell_type": "markdown",
      "source": [
        "#### Numpy arrays and tensors \n",
        "\n",
        "Both the numpy array and the tensor shares the same memory"
      ],
      "metadata": {
        "id": "PHngt6V91zTO"
      }
    },
    {
      "cell_type": "code",
      "source": [
        "t = torch.ones(5)\n",
        "print(f\"t: {t}\")\n",
        "n = t.numpy()\n",
        "print(f\"n: {n}\")"
      ],
      "metadata": {
        "colab": {
          "base_uri": "https://localhost:8080/"
        },
        "id": "k3FL1qxh1wKM",
        "outputId": "cee42df1-facb-4ff3-a6fa-3e6fa94460b0"
      },
      "execution_count": 43,
      "outputs": [
        {
          "output_type": "stream",
          "name": "stdout",
          "text": [
            "t: tensor([1., 1., 1., 1., 1.])\n",
            "n: [1. 1. 1. 1. 1.]\n"
          ]
        }
      ]
    },
    {
      "cell_type": "code",
      "source": [
        "t.add_(1)\n",
        "print(f\"t: {t}\")\n",
        "print(f\"n: {n}\")"
      ],
      "metadata": {
        "colab": {
          "base_uri": "https://localhost:8080/"
        },
        "id": "AZZ_Hl0Q2qNj",
        "outputId": "b04c9918-008c-49df-c4bc-4f8882c7c395"
      },
      "execution_count": 44,
      "outputs": [
        {
          "output_type": "stream",
          "name": "stdout",
          "text": [
            "t: tensor([2., 2., 2., 2., 2.])\n",
            "n: [2. 2. 2. 2. 2.]\n"
          ]
        }
      ]
    },
    {
      "cell_type": "markdown",
      "source": [
        "When 1 is added it is added to both t and n\n"
      ],
      "metadata": {
        "id": "tXfNLZPv2tG1"
      }
    },
    {
      "cell_type": "code",
      "source": [],
      "metadata": {
        "id": "OhLUsjTS2sEZ"
      },
      "execution_count": null,
      "outputs": []
    }
  ]
}